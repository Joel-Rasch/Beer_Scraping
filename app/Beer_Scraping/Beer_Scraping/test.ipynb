{
 "cells": [
  {
   "cell_type": "code",
   "id": "initial_id",
   "metadata": {
    "collapsed": true,
    "ExecuteTime": {
     "end_time": "2024-07-24T17:11:48.830373Z",
     "start_time": "2024-07-24T17:11:48.818377Z"
    }
   },
   "source": [
    "import re\n",
    "from datetime import datetime"
   ],
   "outputs": [],
   "execution_count": 36
  },
  {
   "metadata": {
    "ExecuteTime": {
     "end_time": "2024-07-24T17:12:58.532313Z",
     "start_time": "2024-07-24T17:12:58.517306Z"
    }
   },
   "cell_type": "code",
   "source": [
    "\n",
    "ct = datetime.now()\n",
    "print(ct)"
   ],
   "id": "4135eb32774a38f3",
   "outputs": [
    {
     "name": "stdout",
     "output_type": "stream",
     "text": [
      "2024-07-24 19:12:58.518306\n"
     ]
    }
   ],
   "execution_count": 42
  },
  {
   "metadata": {
    "ExecuteTime": {
     "end_time": "2024-07-24T16:55:49.441055Z",
     "start_time": "2024-07-24T16:55:49.438055Z"
    }
   },
   "cell_type": "code",
   "source": [
    "price_string = '19,49\\xa0€'\n",
    "parts = price_string.split('\\xa0') if '\\xa0' in price_string else price_string.split()"
   ],
   "id": "2a2205680c83e5cd",
   "outputs": [],
   "execution_count": 24
  },
  {
   "metadata": {
    "ExecuteTime": {
     "end_time": "2024-07-24T16:55:53.434859Z",
     "start_time": "2024-07-24T16:55:53.417374Z"
    }
   },
   "cell_type": "code",
   "source": "parts",
   "id": "c8c841264ddf99dc",
   "outputs": [
    {
     "data": {
      "text/plain": [
       "['19,49', '€']"
      ]
     },
     "execution_count": 25,
     "metadata": {},
     "output_type": "execute_result"
    }
   ],
   "execution_count": 25
  },
  {
   "metadata": {
    "ExecuteTime": {
     "end_time": "2024-07-24T16:55:00.383951Z",
     "start_time": "2024-07-24T16:55:00.364952Z"
    }
   },
   "cell_type": "code",
   "source": [
    "def parse_price(price_string):\n",
    "    # Remove any leading/trailing whitespace\n",
    "    price_string = price_string.strip()\n",
    "    \n",
    "    # Split the string by the non-breaking space or regular space\n",
    "    parts = price_string.split('\\xa0') if '\\xa0' in price_string else price_string.split()\n",
    "    \n",
    "    if len(parts) != 2:\n",
    "        raise ValueError(\"Invalid price format\")\n",
    "    \n",
    "    value, currency = parts\n",
    "    \n",
    "    # Replace comma with dot for decimal point and convert to float\n",
    "    value = float(value.replace(',', '.'))\n",
    "    \n",
    "    return value, currency\n",
    "\n",
    "# Example usage\n",
    "price = '19,49\\xa0€'\n",
    "value, currency = parse_price(price)\n",
    "print(f\"Value: {value}, Currency: {currency}\")"
   ],
   "id": "b8cfd1450ec6de94",
   "outputs": [
    {
     "name": "stdout",
     "output_type": "stream",
     "text": [
      "Value: 19.49, Currency: €\n"
     ]
    }
   ],
   "execution_count": 22
  }
 ],
 "metadata": {
  "kernelspec": {
   "display_name": "Python 3",
   "language": "python",
   "name": "python3"
  },
  "language_info": {
   "codemirror_mode": {
    "name": "ipython",
    "version": 2
   },
   "file_extension": ".py",
   "mimetype": "text/x-python",
   "name": "python",
   "nbconvert_exporter": "python",
   "pygments_lexer": "ipython2",
   "version": "2.7.6"
  }
 },
 "nbformat": 4,
 "nbformat_minor": 5
}
